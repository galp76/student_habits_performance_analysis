{
 "cells": [
  {
   "cell_type": "code",
   "execution_count": 1,
   "id": "10be04a9-5e42-49f1-bd21-a662c45e8d30",
   "metadata": {},
   "outputs": [],
   "source": [
    "import pandas as pd"
   ]
  },
  {
   "cell_type": "code",
   "execution_count": 4,
   "id": "5a0bba72-d85a-450e-a3a2-0ac726ea0480",
   "metadata": {},
   "outputs": [
    {
     "data": {
      "text/plain": [
       "Index(['student_id', 'age', 'gender', 'study_hours_per_day',\n",
       "       'social_media_hours', 'netflix_hours', 'part_time_job',\n",
       "       'attendance_percentage', 'sleep_hours', 'diet_quality',\n",
       "       'exercise_frequency', 'parental_education_level', 'internet_quality',\n",
       "       'mental_health_rating', 'extracurricular_participation', 'exam_score'],\n",
       "      dtype='object')"
      ]
     },
     "execution_count": 4,
     "metadata": {},
     "output_type": "execute_result"
    }
   ],
   "source": [
    "test = pd.read_csv(\"student_habits_performance.csv\")\n",
    "test.columns"
   ]
  },
  {
   "cell_type": "code",
   "execution_count": 8,
   "id": "334bd71d-98f1-4eab-bb13-78f01b0df4a4",
   "metadata": {},
   "outputs": [
    {
     "data": {
      "text/plain": [
       "extracurricular_participation\n",
       "False    1000\n",
       "Name: count, dtype: int64"
      ]
     },
     "execution_count": 8,
     "metadata": {},
     "output_type": "execute_result"
    }
   ],
   "source": [
    "test['extracurricular_participation'].isna().value_counts()"
   ]
  },
  {
   "cell_type": "code",
   "execution_count": 11,
   "id": "e68b72a5-496d-411f-9b63-25311603cbac",
   "metadata": {},
   "outputs": [
    {
     "data": {
      "text/plain": [
       "[student_id\n",
       " False    1000\n",
       " Name: count, dtype: int64,\n",
       " age\n",
       " False    1000\n",
       " Name: count, dtype: int64,\n",
       " gender\n",
       " False    1000\n",
       " Name: count, dtype: int64,\n",
       " study_hours_per_day\n",
       " False    1000\n",
       " Name: count, dtype: int64,\n",
       " social_media_hours\n",
       " False    1000\n",
       " Name: count, dtype: int64,\n",
       " netflix_hours\n",
       " False    1000\n",
       " Name: count, dtype: int64,\n",
       " part_time_job\n",
       " False    1000\n",
       " Name: count, dtype: int64,\n",
       " attendance_percentage\n",
       " False    1000\n",
       " Name: count, dtype: int64,\n",
       " sleep_hours\n",
       " False    1000\n",
       " Name: count, dtype: int64,\n",
       " diet_quality\n",
       " False    1000\n",
       " Name: count, dtype: int64,\n",
       " exercise_frequency\n",
       " False    1000\n",
       " Name: count, dtype: int64,\n",
       " parental_education_level\n",
       " False    909\n",
       " True      91\n",
       " Name: count, dtype: int64,\n",
       " internet_quality\n",
       " False    1000\n",
       " Name: count, dtype: int64,\n",
       " mental_health_rating\n",
       " False    1000\n",
       " Name: count, dtype: int64,\n",
       " extracurricular_participation\n",
       " False    1000\n",
       " Name: count, dtype: int64,\n",
       " exam_score\n",
       " False    1000\n",
       " Name: count, dtype: int64]"
      ]
     },
     "execution_count": 11,
     "metadata": {},
     "output_type": "execute_result"
    }
   ],
   "source": [
    "[test[i].isna().value_counts() for i in test.columns]"
   ]
  },
  {
   "cell_type": "code",
   "execution_count": 12,
   "id": "62b077d8-a287-4379-af3e-1a649fe0ff85",
   "metadata": {},
   "outputs": [],
   "source": [
    "parental_education_level = test['parental_education_level']"
   ]
  },
  {
   "cell_type": "code",
   "execution_count": 14,
   "id": "1d8d997e-2d18-44ed-ab62-717548c518a5",
   "metadata": {},
   "outputs": [
    {
     "data": {
      "text/plain": [
       "parental_education_level\n",
       "False    909\n",
       "True      91\n",
       "Name: count, dtype: int64"
      ]
     },
     "execution_count": 14,
     "metadata": {},
     "output_type": "execute_result"
    }
   ],
   "source": [
    "parental_education_level.isna().value_counts()"
   ]
  },
  {
   "cell_type": "code",
   "execution_count": null,
   "id": "e6ce040a-ee1c-4047-a5d3-30c3ea91d44b",
   "metadata": {},
   "outputs": [],
   "source": []
  }
 ],
 "metadata": {
  "kernelspec": {
   "display_name": "Python (dsfs)",
   "language": "python",
   "name": "dsfs"
  },
  "language_info": {
   "codemirror_mode": {
    "name": "ipython",
    "version": 3
   },
   "file_extension": ".py",
   "mimetype": "text/x-python",
   "name": "python",
   "nbconvert_exporter": "python",
   "pygments_lexer": "ipython3",
   "version": "3.11.2"
  }
 },
 "nbformat": 4,
 "nbformat_minor": 5
}
